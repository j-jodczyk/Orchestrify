{
 "cells": [
  {
   "cell_type": "code",
   "execution_count": 2,
   "metadata": {},
   "outputs": [],
   "source": [
    "import pretty_midi\n",
    "import librosa\n",
    "from matplotlib import pyplot as plt\n",
    "import os\n",
    "import miditok"
   ]
  },
  {
   "cell_type": "code",
   "execution_count": 3,
   "metadata": {},
   "outputs": [],
   "source": [
    "def plot_piano_roll(pm, start_pitch, end_pitch, fs=100):\n",
    "    librosa.display.specshow(pm.get_piano_roll(fs)[start_pitch:end_pitch],\n",
    "                             hop_length=1, sr=fs, x_axis='time', y_axis='cqt_note',\n",
    "                             fmin=pretty_midi.note_number_to_hz(start_pitch))"
   ]
  },
  {
   "cell_type": "code",
   "execution_count": 4,
   "metadata": {},
   "outputs": [
    {
     "name": "stderr",
     "output_type": "stream",
     "text": [
      "/tmp/ipykernel_7878/4272272150.py:2: UserWarning: Frequency axis exceeds Nyquist. Did you remember to set all spectrogram parameters in specshow?\n",
      "  librosa.display.specshow(pm.get_piano_roll(fs)[start_pitch:end_pitch],\n"
     ]
    },
    {
     "data": {
      "image/png": "[encoded data removed]",
      "text/plain": [
       "<Figure size 1200x400 with 1 Axes>"
      ]
     },
     "metadata": {},
     "output_type": "display_data"
    }
   ],
   "source": [
    "example_track_path = '../data/external/Jazz Midi/5To10.mid'\n",
    "example_track = pretty_midi.PrettyMIDI(example_track_path)\n",
    "\n",
    "plt.figure(figsize=(12, 4))\n",
    "plot_piano_roll(example_track, 24, 84)"
   ]
  },
  {
   "cell_type": "code",
   "execution_count": null,
   "metadata": {},
   "outputs": [],
   "source": [
    "!wget -O ../models/model.pt http://vault.sfu.ca/index.php/s/Ff2j19IrKS5R969/download"
   ]
  },
  {
   "cell_type": "code",
   "execution_count": 5,
   "metadata": {},
   "outputs": [
    {
     "name": "stdout",
     "output_type": "stream",
     "text": [
      "Number of tracks: 934\n"
     ]
    }
   ],
   "source": [
    "db_path = '../data/external'\n",
    "db_folders = [x[0] for x in os.walk(db_path)]\n",
    "midi_file_paths = []\n",
    "for folder_path in db_folders:\n",
    "    midi_file_paths += [ os.path.join(folder_path, file) for file in os.listdir(folder_path) if file.endswith('.mid')]\n",
    "print(f'Number of tracks: {len(midi_file_paths)}')"
   ]
  },
  {
   "cell_type": "code",
   "execution_count": 6,
   "metadata": {},
   "outputs": [
    {
     "name": "stderr",
     "output_type": "stream",
     "text": [
      "/home/julia/anaconda3/lib/python3.10/site-packages/pretty_midi/pretty_midi.py:100: RuntimeWarning: Tempo, Key or Time signature change events found on non-zero tracks.  This is not a valid type 0 or type 1 MIDI file.  Tempo, Key or Time Signature may be wrong.\n",
      "  warnings.warn(\n"
     ]
    }
   ],
   "source": [
    "midis = []\n",
    "for file_path in midi_file_paths:\n",
    "    try:\n",
    "        midis.append(pretty_midi.PrettyMIDI(file_path))\n",
    "    except Exception as ex:\n",
    "        # print(f'Exception occured: {type(ex).__name__}')\n",
    "        continue"
   ]
  },
  {
   "cell_type": "code",
   "execution_count": 7,
   "metadata": {},
   "outputs": [
    {
     "name": "stdout",
     "output_type": "stream",
     "text": [
      "Number of properly loaded files: 915\n"
     ]
    }
   ],
   "source": [
    "print(f'Number of properly loaded files: {len(midis)}')"
   ]
  },
  {
   "cell_type": "code",
   "execution_count": 8,
   "metadata": {},
   "outputs": [],
   "source": [
    "track_lengths = [ midi.get_end_time() for midi in midis ]\n",
    "max_tl = max(track_lengths)\n",
    "track_lengths_without_max = [tl for tl in track_lengths if tl < max_tl]\n",
    "# plt.hist(track_lengths_without_max, bins=20, edgecolor='black')"
   ]
  },
  {
   "cell_type": "code",
   "execution_count": 9,
   "metadata": {},
   "outputs": [
    {
     "data": {
      "text/plain": [
       "211241.65849309575"
      ]
     },
     "execution_count": 9,
     "metadata": {},
     "output_type": "execute_result"
    }
   ],
   "source": [
    "sum(track_lengths)"
   ]
  },
  {
   "cell_type": "code",
   "execution_count": 10,
   "metadata": {},
   "outputs": [
    {
     "data": {
      "text/plain": [
       "(array([ 99.,  18.,  88.,  66., 224.,  71., 121.,  44.,  62.,  35.,  46.,\n",
       "         11.,  11.,   4.,   7.,   1.,   3.,   2.,   1.,   1.]),\n",
       " array([ 1. ,  2.5,  4. ,  5.5,  7. ,  8.5, 10. , 11.5, 13. , 14.5, 16. ,\n",
       "        17.5, 19. , 20.5, 22. , 23.5, 25. , 26.5, 28. , 29.5, 31. ]),\n",
       " <BarContainer object of 20 artists>)"
      ]
     },
     "execution_count": 10,
     "metadata": {},
     "output_type": "execute_result"
    },
    {
     "data": {
      "image/png": "[encoded data removed]",
      "text/plain": [
       "<Figure size 640x480 with 1 Axes>"
      ]
     },
     "metadata": {},
     "output_type": "display_data"
    }
   ],
   "source": [
    "instrument_number = [ len(midi.instruments) for midi in midis ]\n",
    "plt.hist(instrument_number, bins=20, edgecolor='black')"
   ]
  },
  {
   "cell_type": "code",
   "execution_count": 11,
   "metadata": {},
   "outputs": [],
   "source": [
    "# divide into 4 bar chunks\n",
    "\n",
    "# mmm tokenize it"
   ]
  },
  {
   "cell_type": "code",
   "execution_count": 2,
   "metadata": {},
   "outputs": [
    {
     "name": "stderr",
     "output_type": "stream",
     "text": [
      "/home/julia/anaconda3/lib/python3.10/site-packages/torch/serialization.py:707: UserWarning: 'torch.load' received a zip file that looks like a TorchScript archive dispatching to 'torch.jit.load' (call 'torch.jit.load' directly to silence this warning)\n",
      "  warnings.warn(\"'torch.load' received a zip file that looks like a TorchScript archive\"\n"
     ]
    }
   ],
   "source": [
    "import miditok\n",
    "import torch\n",
    "\n",
    "config = miditok.TokenizerConfig()\n",
    "config.additional_params = { \"base_tokenizer\" : 'REMI' }\n",
    "\n",
    "tokenizer = miditok.MMM(config)\n",
    "example_track_path = '../data/external/Jazz Midi/5To10.mid'\n",
    "encoded = tokenizer.encode(example_track_path)\n",
    "\n",
    "model_path = '../models/model.pt'\n",
    "model = torch.load(model_path)\n",
    "\n",
    "model.eval()\n",
    "\n",
    "device = torch.device(\"cuda\" if torch.cuda.is_available() else \"cpu\")\n",
    "model.to(device)\n",
    "input_ids = torch.tensor([encoded], dtype=torch.long).to(device)\n"
   ]
  },
  {
   "cell_type": "code",
   "execution_count": 10,
   "metadata": {},
   "outputs": [
    {
     "name": "stdout",
     "output_type": "stream",
     "text": [
      "def forward(self,\n",
      "    input_ids: Tensor,\n",
      "    argument_2: Tuple[Tuple[Tensor, Tensor], Tuple[Tensor, Tensor], Tuple[Tensor, Tensor], Tuple[Tensor, Tensor], Tuple[Tensor, Tensor], Tuple[Tensor, Tensor]]) -> Tuple[Tensor, Tuple[Tuple[Tensor, Tensor], Tuple[Tensor, Tensor], Tuple[Tensor, Tensor], Tuple[Tensor, Tensor], Tuple[Tensor, Tensor], Tuple[Tensor, Tensor]]]:\n",
      "  lm_head = self.lm_head\n",
      "  transformer = self.transformer\n",
      "  _0, _1, _2, _3, _4, _5, = argument_2\n",
      "  _6, past_value, = _0\n",
      "  _7, past_value0, = _1\n",
      "  _8, past_value1, = _2\n",
      "  _9, past_value2, = _3\n",
      "  _10, past_value3, = _4\n",
      "  _11, past_value4, = _5\n",
      "  _12 = (transformer).forward(input_ids, _6, past_value, _7, past_value0, _8, past_value1, _9, past_value2, _10, past_value3, _11, past_value4, )\n",
      "  _13, _14, _15, _16, _17, _18, _19, _20, _21, _22, _23, _24, _25, = _12\n",
      "  _26 = (lm_head).forward(_13, )\n",
      "  _27 = ((_14, _15), (_16, _17), (_18, _19), (_20, _21), (_22, _23), (_24, _25))\n",
      "  return (_26, _27)\n",
      "\n"
     ]
    }
   ],
   "source": [
    "print(model.code)"
   ]
  },
  {
   "cell_type": "code",
   "execution_count": 18,
   "metadata": {},
   "outputs": [],
   "source": [
    "input_ids = input_ids[:, :1024]"
   ]
  },
  {
   "cell_type": "code",
   "execution_count": 25,
   "metadata": {},
   "outputs": [],
   "source": [
    "batch_size = input_ids.size(0)\n",
    "num_heads = 8           # Set based on model's actual configuration\n",
    "hidden_dim = 512         # This is usually hidden_size / num_heads\n",
    "sequence_length = input_ids.size(1)\n",
    "\n",
    "argument_2 = tuple(\n",
    "    (\n",
    "        torch.zeros((batch_size, num_heads, sequence_length, hidden_dim // num_heads), dtype=torch.float32).to(device),  # past_key\n",
    "        torch.zeros((batch_size, num_heads, sequence_length, hidden_dim // num_heads), dtype=torch.float32).to(device)   # past_value\n",
    "    )\n",
    "    for _ in range(6)  # Six layers, assuming GPT-2 small\n",
    ")"
   ]
  },
  {
   "cell_type": "code",
   "execution_count": 42,
   "metadata": {},
   "outputs": [],
   "source": [
    "# Forward pass with all required inputs\n",
    "with torch.no_grad():\n",
    "    output = model(input_ids, argument_2)"
   ]
  },
  {
   "cell_type": "code",
   "execution_count": 43,
   "metadata": {},
   "outputs": [
    {
     "data": {
      "text/plain": [
       "2"
      ]
     },
     "execution_count": 43,
     "metadata": {},
     "output_type": "execute_result"
    }
   ],
   "source": [
    "len(output)"
   ]
  },
  {
   "cell_type": "code",
   "execution_count": 47,
   "metadata": {},
   "outputs": [
    {
     "data": {
      "text/plain": [
       "1024"
      ]
     },
     "execution_count": 47,
     "metadata": {},
     "output_type": "execute_result"
    }
   ],
   "source": [
    "piece = output[0]\n",
    "len(piece[0])"
   ]
  },
  {
   "cell_type": "code",
   "execution_count": 51,
   "metadata": {},
   "outputs": [
    {
     "ename": "ValueError",
     "evalue": "The input sequence does not have the expected dimension (3 instead of 1).",
     "output_type": "error",
     "traceback": [
      "\u001b[0;31m---------------------------------------------------------------------------\u001b[0m",
      "\u001b[0;31mValueError\u001b[0m                                Traceback (most recent call last)",
      "Cell \u001b[0;32mIn[51], line 1\u001b[0m\n\u001b[0;32m----> 1\u001b[0m \u001b[43mtokenizer\u001b[49m\u001b[38;5;241;43m.\u001b[39;49m\u001b[43mdecode\u001b[49m\u001b[43m(\u001b[49m\u001b[43mpiece\u001b[49m\u001b[43m)\u001b[49m\n",
      "File \u001b[0;32m~/anaconda3/lib/python3.10/site-packages/miditok/midi_tokenizer.py:1940\u001b[0m, in \u001b[0;36mMusicTokenizer.decode\u001b[0;34m(self, tokens, programs, output_path)\u001b[0m\n\u001b[1;32m   1918\u001b[0m \u001b[38;5;124mr\u001b[39m\u001b[38;5;124;03m\"\"\"\u001b[39;00m\n\u001b[1;32m   1919\u001b[0m \u001b[38;5;124;03mDetokenize one or several sequences of tokens into a ``symusic.Score``.\u001b[39;00m\n\u001b[1;32m   1920\u001b[0m \n\u001b[0;32m   (...)\u001b[0m\n\u001b[1;32m   1934\u001b[0m \u001b[38;5;124;03m:return: the ``symusic.Score`` object.\u001b[39;00m\n\u001b[1;32m   1935\u001b[0m \u001b[38;5;124;03m\"\"\"\u001b[39;00m\n\u001b[1;32m   1936\u001b[0m \u001b[38;5;28;01mif\u001b[39;00m \u001b[38;5;129;01mnot\u001b[39;00m \u001b[38;5;28misinstance\u001b[39m(tokens, (TokSequence, \u001b[38;5;28mlist\u001b[39m)) \u001b[38;5;129;01mor\u001b[39;00m (\n\u001b[1;32m   1937\u001b[0m     \u001b[38;5;28misinstance\u001b[39m(tokens, \u001b[38;5;28mlist\u001b[39m)\n\u001b[1;32m   1938\u001b[0m     \u001b[38;5;129;01mand\u001b[39;00m \u001b[38;5;28many\u001b[39m(\u001b[38;5;129;01mnot\u001b[39;00m \u001b[38;5;28misinstance\u001b[39m(seq, TokSequence) \u001b[38;5;28;01mfor\u001b[39;00m seq \u001b[38;5;129;01min\u001b[39;00m tokens)\n\u001b[1;32m   1939\u001b[0m ):\n\u001b[0;32m-> 1940\u001b[0m     tokens \u001b[38;5;241m=\u001b[39m \u001b[38;5;28;43mself\u001b[39;49m\u001b[38;5;241;43m.\u001b[39;49m\u001b[43m_convert_sequence_to_tokseq\u001b[49m\u001b[43m(\u001b[49m\u001b[43mtokens\u001b[49m\u001b[43m)\u001b[49m\n\u001b[1;32m   1942\u001b[0m \u001b[38;5;66;03m# Preprocess TokSequence(s)\u001b[39;00m\n\u001b[1;32m   1943\u001b[0m \u001b[38;5;28;01mif\u001b[39;00m \u001b[38;5;28misinstance\u001b[39m(tokens, TokSequence):\n",
      "File \u001b[0;32m~/anaconda3/lib/python3.10/site-packages/miditok/midi_tokenizer.py:1868\u001b[0m, in \u001b[0;36mMusicTokenizer._convert_sequence_to_tokseq\u001b[0;34m(self, input_seq)\u001b[0m\n\u001b[1;32m   1863\u001b[0m \u001b[38;5;28;01melif\u001b[39;00m num_seq_dims \u001b[38;5;241m!=\u001b[39m num_io_dims:\n\u001b[1;32m   1864\u001b[0m     msg \u001b[38;5;241m=\u001b[39m (\n\u001b[1;32m   1865\u001b[0m         \u001b[38;5;124mf\u001b[39m\u001b[38;5;124m\"\u001b[39m\u001b[38;5;124mThe input sequence does not have the expected dimension \u001b[39m\u001b[38;5;124m\"\u001b[39m\n\u001b[1;32m   1866\u001b[0m         \u001b[38;5;124mf\u001b[39m\u001b[38;5;124m\"\u001b[39m\u001b[38;5;124m(\u001b[39m\u001b[38;5;132;01m{\u001b[39;00mnum_seq_dims\u001b[38;5;132;01m}\u001b[39;00m\u001b[38;5;124m instead of \u001b[39m\u001b[38;5;132;01m{\u001b[39;00mnum_io_dims\u001b[38;5;132;01m}\u001b[39;00m\u001b[38;5;124m).\u001b[39m\u001b[38;5;124m\"\u001b[39m\n\u001b[1;32m   1867\u001b[0m     )\n\u001b[0;32m-> 1868\u001b[0m     \u001b[38;5;28;01mraise\u001b[39;00m \u001b[38;5;167;01mValueError\u001b[39;00m(msg)\n\u001b[1;32m   1870\u001b[0m \u001b[38;5;66;03m# Convert to TokSequence\u001b[39;00m\n\u001b[1;32m   1871\u001b[0m \u001b[38;5;28;01mif\u001b[39;00m \u001b[38;5;129;01mnot\u001b[39;00m \u001b[38;5;28mself\u001b[39m\u001b[38;5;241m.\u001b[39mone_token_stream \u001b[38;5;129;01mand\u001b[39;00m num_io_dims \u001b[38;5;241m==\u001b[39m num_seq_dims:\n",
      "\u001b[0;31mValueError\u001b[0m: The input sequence does not have the expected dimension (3 instead of 1)."
     ]
    }
   ],
   "source": [
    "tokenizer.decode(piece)"
   ]
  },
  {
   "cell_type": "code",
   "execution_count": 35,
   "metadata": {},
   "outputs": [
    {
     "ename": "KeyError",
     "evalue": "570",
     "output_type": "error",
     "traceback": [
      "\u001b[0;31m---------------------------------------------------------------------------\u001b[0m",
      "\u001b[0;31mKeyError\u001b[0m                                  Traceback (most recent call last)",
      "Cell \u001b[0;32mIn[35], line 7\u001b[0m\n\u001b[1;32m      4\u001b[0m token_sequence \u001b[38;5;241m=\u001b[39m miditok\u001b[38;5;241m.\u001b[39mTokSequence(ids\u001b[38;5;241m=\u001b[39mtokens)\n\u001b[1;32m      6\u001b[0m \u001b[38;5;66;03m# Decode tokens to MIDI Score and save\u001b[39;00m\n\u001b[0;32m----> 7\u001b[0m midi_obj \u001b[38;5;241m=\u001b[39m \u001b[43mtokenizer\u001b[49m\u001b[38;5;241;43m.\u001b[39;49m\u001b[43mdecode\u001b[49m\u001b[43m(\u001b[49m\u001b[43m[\u001b[49m\u001b[43mtoken_sequence\u001b[49m\u001b[43m]\u001b[49m\u001b[43m)\u001b[49m\n\u001b[1;32m      8\u001b[0m midi_obj[\u001b[38;5;241m0\u001b[39m]\u001b[38;5;241m.\u001b[39mdump(\u001b[38;5;124m\"\u001b[39m\u001b[38;5;124mgenerated_output.mid\u001b[39m\u001b[38;5;124m\"\u001b[39m)\n",
      "File \u001b[0;32m~/anaconda3/lib/python3.10/site-packages/miditok/midi_tokenizer.py:1947\u001b[0m, in \u001b[0;36mMusicTokenizer.decode\u001b[0;34m(self, tokens, programs, output_path)\u001b[0m\n\u001b[1;32m   1945\u001b[0m \u001b[38;5;28;01melse\u001b[39;00m:  \u001b[38;5;66;03m# list[TokSequence]\u001b[39;00m\n\u001b[1;32m   1946\u001b[0m     \u001b[38;5;28;01mfor\u001b[39;00m seq \u001b[38;5;129;01min\u001b[39;00m tokens:\n\u001b[0;32m-> 1947\u001b[0m         \u001b[38;5;28;43mself\u001b[39;49m\u001b[38;5;241;43m.\u001b[39;49m\u001b[43m_preprocess_tokseq_before_decoding\u001b[49m\u001b[43m(\u001b[49m\u001b[43mseq\u001b[49m\u001b[43m)\u001b[49m\n\u001b[1;32m   1949\u001b[0m score \u001b[38;5;241m=\u001b[39m \u001b[38;5;28mself\u001b[39m\u001b[38;5;241m.\u001b[39m_tokens_to_score(tokens, programs)\n\u001b[1;32m   1951\u001b[0m \u001b[38;5;66;03m# Create controls for pedals\u001b[39;00m\n\u001b[1;32m   1952\u001b[0m \u001b[38;5;66;03m# This is required so that they are saved when the Score is dumped, as symusic\u001b[39;00m\n\u001b[1;32m   1953\u001b[0m \u001b[38;5;66;03m# will only write the control messages.\u001b[39;00m\n",
      "File \u001b[0;32m~/anaconda3/lib/python3.10/site-packages/miditok/midi_tokenizer.py:1902\u001b[0m, in \u001b[0;36mMusicTokenizer._preprocess_tokseq_before_decoding\u001b[0;34m(self, tokseq)\u001b[0m\n\u001b[1;32m   1900\u001b[0m \u001b[38;5;28;01mif\u001b[39;00m tokseq\u001b[38;5;241m.\u001b[39mare_ids_encoded:\n\u001b[1;32m   1901\u001b[0m     \u001b[38;5;28mself\u001b[39m\u001b[38;5;241m.\u001b[39mdecode_token_ids(tokseq)\n\u001b[0;32m-> 1902\u001b[0m \u001b[38;5;28;43mself\u001b[39;49m\u001b[38;5;241;43m.\u001b[39;49m\u001b[43mcomplete_sequence\u001b[49m\u001b[43m(\u001b[49m\u001b[43mtokseq\u001b[49m\u001b[43m)\u001b[49m\n",
      "File \u001b[0;32m~/anaconda3/lib/python3.10/site-packages/miditok/midi_tokenizer.py:1687\u001b[0m, in \u001b[0;36mMusicTokenizer.complete_sequence\u001b[0;34m(self, seq, complete_bytes)\u001b[0m\n\u001b[1;32m   1685\u001b[0m     seq\u001b[38;5;241m.\u001b[39mtokens \u001b[38;5;241m=\u001b[39m \u001b[38;5;28mself\u001b[39m\u001b[38;5;241m.\u001b[39m_events_to_tokens(seq\u001b[38;5;241m.\u001b[39mevents)\n\u001b[1;32m   1686\u001b[0m \u001b[38;5;28;01melif\u001b[39;00m \u001b[38;5;28mlen\u001b[39m(seq\u001b[38;5;241m.\u001b[39mids) \u001b[38;5;241m>\u001b[39m \u001b[38;5;241m0\u001b[39m:\n\u001b[0;32m-> 1687\u001b[0m     seq\u001b[38;5;241m.\u001b[39mtokens \u001b[38;5;241m=\u001b[39m \u001b[38;5;28;43mself\u001b[39;49m\u001b[38;5;241;43m.\u001b[39;49m\u001b[43m_ids_to_tokens\u001b[49m\u001b[43m(\u001b[49m\u001b[43mseq\u001b[49m\u001b[38;5;241;43m.\u001b[39;49m\u001b[43mids\u001b[49m\u001b[43m)\u001b[49m\n\u001b[1;32m   1688\u001b[0m \u001b[38;5;28;01melif\u001b[39;00m \u001b[38;5;28mlen\u001b[39m(seq\u001b[38;5;241m.\u001b[39mbytes) \u001b[38;5;241m>\u001b[39m \u001b[38;5;241m0\u001b[39m:\n\u001b[1;32m   1689\u001b[0m     seq\u001b[38;5;241m.\u001b[39mtokens \u001b[38;5;241m=\u001b[39m \u001b[38;5;28mself\u001b[39m\u001b[38;5;241m.\u001b[39m_bytes_to_tokens(seq\u001b[38;5;241m.\u001b[39mbytes)\n",
      "File \u001b[0;32m~/anaconda3/lib/python3.10/site-packages/miditok/midi_tokenizer.py:1747\u001b[0m, in \u001b[0;36mMusicTokenizer._ids_to_tokens\u001b[0;34m(self, ids, as_str)\u001b[0m\n\u001b[1;32m   1744\u001b[0m     \u001b[38;5;28;01mreturn\u001b[39;00m tokens\n\u001b[1;32m   1746\u001b[0m \u001b[38;5;28;01mfor\u001b[39;00m id_ \u001b[38;5;129;01min\u001b[39;00m ids:\n\u001b[0;32m-> 1747\u001b[0m     event_str \u001b[38;5;241m=\u001b[39m \u001b[38;5;28;43mself\u001b[39;49m\u001b[43m[\u001b[49m\u001b[43mid_\u001b[49m\u001b[43m]\u001b[49m\n\u001b[1;32m   1748\u001b[0m     tokens\u001b[38;5;241m.\u001b[39mappend(event_str \u001b[38;5;28;01mif\u001b[39;00m as_str \u001b[38;5;28;01melse\u001b[39;00m Event(\u001b[38;5;241m*\u001b[39mevent_str\u001b[38;5;241m.\u001b[39msplit(\u001b[38;5;124m\"\u001b[39m\u001b[38;5;124m_\u001b[39m\u001b[38;5;124m\"\u001b[39m)))\n\u001b[1;32m   1749\u001b[0m \u001b[38;5;28;01mreturn\u001b[39;00m tokens\n",
      "File \u001b[0;32m~/anaconda3/lib/python3.10/site-packages/miditok/midi_tokenizer.py:3775\u001b[0m, in \u001b[0;36mMusicTokenizer.__getitem__\u001b[0;34m(self, item)\u001b[0m\n\u001b[1;32m   3766\u001b[0m     msg \u001b[38;5;241m=\u001b[39m (\n\u001b[1;32m   3767\u001b[0m         \u001b[38;5;124m\"\u001b[39m\u001b[38;5;124mThis tokenizer uses multiple vocabularies / embedding pooling. To\u001b[39m\u001b[38;5;124m\"\u001b[39m\n\u001b[1;32m   3768\u001b[0m         \u001b[38;5;124m\"\u001b[39m\u001b[38;5;124mindex it you must either provide a token (string) that is within\u001b[39m\u001b[38;5;124m\"\u001b[39m\n\u001b[0;32m   (...)\u001b[0m\n\u001b[1;32m   3771\u001b[0m         \u001b[38;5;124m\"\u001b[39m\u001b[38;5;124melement to index.\u001b[39m\u001b[38;5;124m\"\u001b[39m\n\u001b[1;32m   3772\u001b[0m     )\n\u001b[1;32m   3773\u001b[0m     \u001b[38;5;28;01mraise\u001b[39;00m \u001b[38;5;167;01mValueError\u001b[39;00m(msg)\n\u001b[0;32m-> 3775\u001b[0m \u001b[38;5;28;01mreturn\u001b[39;00m \u001b[38;5;28;43mself\u001b[39;49m\u001b[38;5;241;43m.\u001b[39;49m\u001b[43m__get_from_voc\u001b[49m\u001b[43m(\u001b[49m\u001b[43mitem\u001b[49m\u001b[43m)\u001b[49m\n",
      "File \u001b[0;32m~/anaconda3/lib/python3.10/site-packages/miditok/midi_tokenizer.py:3796\u001b[0m, in \u001b[0;36mMusicTokenizer.__get_from_voc\u001b[0;34m(self, item, vocab_id)\u001b[0m\n\u001b[1;32m   3790\u001b[0m \u001b[38;5;28;01melse\u001b[39;00m:\n\u001b[1;32m   3791\u001b[0m     voc \u001b[38;5;241m=\u001b[39m (\n\u001b[1;32m   3792\u001b[0m         \u001b[38;5;28mself\u001b[39m\u001b[38;5;241m.\u001b[39m__vocab_base_inv[vocab_id]\n\u001b[1;32m   3793\u001b[0m         \u001b[38;5;28;01mif\u001b[39;00m \u001b[38;5;28mself\u001b[39m\u001b[38;5;241m.\u001b[39mis_multi_voc\n\u001b[1;32m   3794\u001b[0m         \u001b[38;5;28;01melse\u001b[39;00m \u001b[38;5;28mself\u001b[39m\u001b[38;5;241m.\u001b[39m__vocab_base_inv\n\u001b[1;32m   3795\u001b[0m     )\n\u001b[0;32m-> 3796\u001b[0m \u001b[38;5;28;01mreturn\u001b[39;00m \u001b[43mvoc\u001b[49m\u001b[43m[\u001b[49m\u001b[43mitem\u001b[49m\u001b[43m]\u001b[49m\n",
      "\u001b[0;31mKeyError\u001b[0m: 570"
     ]
    }
   ],
   "source": [
    "tokens = logits.argmax(dim=-1).squeeze().tolist()  # Convert logits to a list of token IDs\n",
    "\n",
    "# Convert tokens to TokSequence\n",
    "token_sequence = miditok.TokSequence(ids=tokens)\n",
    "\n",
    "# Decode tokens to MIDI Score and save\n",
    "midi_obj = tokenizer.decode([token_sequence])\n",
    "midi_obj[0].dump(\"generated_output.mid\")  # Save as MIDI file"
   ]
  }
 ],
 "metadata": {
  "kernelspec": {
   "display_name": "base",
   "language": "python",
   "name": "python3"
  },
  "language_info": {
   "codemirror_mode": {
    "name": "ipython",
    "version": 3
   },
   "file_extension": ".py",
   "mimetype": "text/x-python",
   "name": "python",
   "nbconvert_exporter": "python",
   "pygments_lexer": "ipython3",
   "version": "3.10.9"
  }
 },
 "nbformat": 4,
 "nbformat_minor": 2
}
